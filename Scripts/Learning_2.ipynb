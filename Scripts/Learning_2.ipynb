{
 "cells": [
  {
   "cell_type": "markdown",
   "metadata": {
    "id": "Y9YgvEIPZC1Z"
   },
   "source": [
    "### Q3(3) Semi-Supervised Learning"
   ]
  },
  {
   "cell_type": "code",
   "execution_count": 19,
   "metadata": {
    "id": "T4p6TM-0ZCU4"
   },
   "outputs": [],
   "source": [
    "import torch\n",
    "import torch.nn as nn\n",
    "import torch.nn.functional as F\n",
    "from torchsummary import summary\n",
    "import torch.optim as optim\n",
    "import torch.backends.cudnn as cudnn\n",
    "import torchvision.transforms as transforms\n",
    "from torch.utils.data import Dataset, DataLoader\n",
    "import PIL.Image as Image\n",
    "import numpy as np\n",
    "import matplotlib.pyplot as plt\n",
    "import pandas as pd"
   ]
  },
  {
   "cell_type": "code",
   "execution_count": 20,
   "metadata": {
    "id": "jvQUqB11xRo0"
   },
   "outputs": [
    {
     "name": "stdout",
     "output_type": "stream",
     "text": [
      "mean and stddev of svhn data set (after making it GrayScale)\n",
      "0.45141874380091884 0.19392833492380085\n"
     ]
    }
   ],
   "source": [
    "# finding normalization params for gray scale SVHN dataset : since model will be trained/tested on it\n",
    "x=np.load('SVHN/train_x.npy').sum(axis=1)/(3.*255.)\n",
    "mean=x.mean(axis=0).mean()\n",
    "std=x.std(axis=0).mean()\n",
    "print('mean and stddev of svhn data set (after making it GrayScale)')\n",
    "print(mean, std)"
   ]
  },
  {
   "cell_type": "code",
   "execution_count": 25,
   "metadata": {
    "id": "1avVu4iHxRmQ"
   },
   "outputs": [
    {
     "data": {
      "image/png": "[encoded data removed]",
      "text/plain": [
       "<Figure size 432x288 with 10 Axes>"
      ]
     },
     "metadata": {
      "needs_background": "light"
     },
     "output_type": "display_data"
    }
   ],
   "source": [
    "# plt.figure(figsize=(8.,6.))\n",
    "x1=np.load('MNIST/train_x.npy')\n",
    "y1=np.load('MNIST/train_y.npy')\n",
    "x2=np.load('SVHN/train_x.npy')\n",
    "y2=np.load('SVHN/train_y.npy')\n",
    "for i in range(5):\n",
    "    plt.subplot(2,5,i+1)\n",
    "    plt.axis('off')\n",
    "    plt.title(y1[i])\n",
    "    plt.imshow(x1[i]/255.,cmap='gray')\n",
    "    plt.subplot(2,5,i+6)\n",
    "    plt.axis('off')\n",
    "    plt.title(y2[i])\n",
    "    plt.imshow(x2[i].sum(axis=0)/(3*255.),cmap='gray')\n",
    "plt.savefig('q3_part3_bothDS.png')\n",
    "plt.show()"
   ]
  },
  {
   "cell_type": "code",
   "execution_count": 40,
   "metadata": {
    "id": "GsVSqnD0Y-mD"
   },
   "outputs": [],
   "source": [
    "class LeNet(nn.Module):\n",
    "    def __init__(self):\n",
    "        super(LeNet, self).__init__()\n",
    "        self.conv1 = nn.Conv2d(1, 6, 3, padding=1)\n",
    "        self.conv2 = nn.Conv2d(6, 16, 3, padding=1)\n",
    "        self.fc1   = nn.Linear(16*7*7, 120)\n",
    "        self.fc2   = nn.Linear(120, 10)\n",
    "    def forward(self, x):\n",
    "        out = F.relu(self.conv1(x)) #6,28,28\n",
    "        out = F.max_pool2d(out, 2) #6,14,14\n",
    "        out = F.relu(self.conv2(out)) #16,14,14\n",
    "        out = F.max_pool2d(out, 2) #16,7,7\n",
    "        out = out.view(out.size(0), -1) \n",
    "        out = F.relu(self.fc1(out))\n",
    "        out = self.fc2(out)\n",
    "        return out\n",
    "\n",
    "class Mnist_SVHN(Dataset):\n",
    "    def __init__(self,train,data_set):\n",
    "        self.train = train\n",
    "        type_ = 'train' if train else 'test'\n",
    "        Images_path='drive/My Drive/q3/'+data_set+'/'+type_+'_x.npy'\n",
    "        Labels_path='drive/My Drive/q3/'+data_set+'/'+type_+'_y.npy'\n",
    "        self.imgs=np.load(Images_path)\n",
    "        self.lbls=np.load(Labels_path)\n",
    "        if data_set=='SVHN':\n",
    "          self.imgs=self.imgs.transpose((0,2,3,1))\n",
    "    def __getitem__(self, index):\n",
    "        img, target = self.imgs[index], self.lbls[index]\n",
    "        shape = img.shape\n",
    "        img = Image.fromarray(img.astype(np.uint8))\n",
    "        if self.train == True: # Apply train transform\n",
    "            t1 = transforms.Compose(\n",
    "                    [transforms.RandomCrop(shape[0], padding=4), \n",
    "                    transforms.RandomHorizontalFlip()]) \n",
    "            img = t1(img)\n",
    "        if len(shape)==3:\n",
    "            t = transforms.Compose(\n",
    "                    [transforms.Grayscale(), \n",
    "                    transforms.Resize((28,28)),\n",
    "                    transforms.ToTensor(),\n",
    "                    transforms.Normalize(0.45141874380091884, 0.19392833492380085)]) \n",
    "            img = t(img)\n",
    "        else:\n",
    "            t2 = transforms.Compose(\n",
    "                [transforms.ToTensor()])\n",
    "            img = t2(img)        \n",
    "        return img, target\n",
    "    def __len__(self):\n",
    "        return self.imgs.shape[0]"
   ]
  },
  {
   "cell_type": "markdown",
   "metadata": {},
   "source": [
    "#### train the model on MNIST and test it on SVHN"
   ]
  },
  {
   "cell_type": "code",
   "execution_count": 41,
   "metadata": {
    "id": "hgvo0opVY-a_"
   },
   "outputs": [],
   "source": [
    "def main():\n",
    "    exp_name='q3_part3_mnist'\n",
    "    torch.manual_seed(1)\n",
    "    device = 'cuda' if torch.cuda.is_available() else 'cpu'\n",
    "    print(torch.cuda.get_device_properties(0))\n",
    "    # Data\n",
    "    print('==> Preparing data..')\n",
    "    trainset = Mnist_SVHN(train=True,data_set='MNIST')\n",
    "    trainloader = DataLoader(trainset, batch_size=128, shuffle=True, num_workers=2)\n",
    "    testset = Mnist_SVHN(train=False,data_set='SVHN')\n",
    "    testloader = DataLoader(testset, batch_size=128, shuffle=False, num_workers=2)\n",
    "    print('==> Building model..')\n",
    "    net = LeNet()\n",
    "    net = net.to(device)\n",
    "    if device == 'cuda':\n",
    "        cudnn.benchmark = True\n",
    "    start_epoch = 1\n",
    "    best_acc=0\n",
    "    lr=0.1\n",
    "    criterion = nn.CrossEntropyLoss()\n",
    "    optimizer = optim.SGD(net.parameters(), lr=lr, weight_decay=5e-4)\n",
    "    trainloss, testloss, trainacc, testacc = [], [], [], []\n",
    "    for epoch in range(start_epoch, start_epoch+5):\n",
    "        print('\\nepoch',epoch)\n",
    "        l,a=train(epoch, net, trainloader, device, optimizer, criterion)\n",
    "        trainloss.append(l)\n",
    "        trainacc.append(a)\n",
    "        l,a,best_acc=test(epoch, best_acc, net, testloader, device, criterion, exp_name)\n",
    "        testloss.append(l)\n",
    "        testacc.append(a)\n",
    "        print(trainacc[-1],testacc[-1])\n",
    "        print(trainloss[-1],testloss[-1])\n",
    "    Save_Stats(trainloss, trainacc, testloss, testacc, exp_name)\n",
    "    # with torch.no_grad():\n",
    "    #     Images_path='drive/My Drive/q3/SVHN/test_x.npy'\n",
    "    #     Labels_path='drive/My Drive/q3/SVHN/test_y.npy'\n",
    "    #     imgs=np.load(Images_path).sum(axis=1)/3.\n",
    "    #     imgs=imgs-0.45141874380091884\n",
    "    #     imgs=imgs/0.19392833492380085\n",
    "    #     lbls=np.load(Labels_path)\n",
    "    #     imgs=np.expand_dims(imgs,axis=1)\n",
    "    #     imgs=torch.from_numpy(imgs)/255.\n",
    "    #     lbls=torch.from_numpy(lbls)\n",
    "    #     imgs=imgs.to(device)\n",
    "    #     lbls=lbls.to(device)\n",
    "    #     outputs = net(imgs)\n",
    "    #     _, predicted = outputs.max(1)\n",
    "    #     classification_performance_metrics(predicted.cpu().numpy(),lbls.cpu().numpy(),exp_name)\n",
    "def train(epoch, net, trainloader, device, optimizer, criterion):\n",
    "    net.train()\n",
    "    train_loss = 0\n",
    "    correct = 0\n",
    "    total = 0\n",
    "    for batch_idx, (inputs, targets) in enumerate(trainloader):\n",
    "        inputs, targets = inputs.to(device), targets.to(device)\n",
    "        optimizer.zero_grad()\n",
    "        outputs = net(inputs)\n",
    "        loss = criterion(outputs, targets)\n",
    "        loss.backward()\n",
    "        optimizer.step()\n",
    "        train_loss += loss.item()\n",
    "        _, predicted = outputs.max(1)\n",
    "        total += targets.size(0)\n",
    "        correct += predicted.eq(targets).sum().item()\n",
    "    return train_loss/(batch_idx+1), 100.*correct/total \n",
    "def test(epoch, best_acc, net, testloader, device, criterion,exp_name):\n",
    "    net.eval()\n",
    "    test_loss = 0\n",
    "    correct = 0\n",
    "    total = 0\n",
    "    with torch.no_grad():\n",
    "        for batch_idx, (inputs, targets) in enumerate(testloader):\n",
    "            inputs, targets = inputs.to(device), targets.to(device)\n",
    "            outputs = net(inputs)\n",
    "            loss = criterion(outputs, targets)\n",
    "            test_loss += loss.item()\n",
    "            _, predicted = outputs.max(1)\n",
    "            total += targets.size(0)\n",
    "            correct += predicted.eq(targets).sum().item()\n",
    "    acc = 100.*correct/total\n",
    "    if acc > best_acc:\n",
    "        best_acc = acc\n",
    "    return test_loss/(batch_idx+1), acc, best_acc"
   ]
  },
  {
   "cell_type": "code",
   "execution_count": 11,
   "metadata": {
    "colab": {
     "base_uri": "https://localhost:8080/"
    },
    "id": "0I8Vc3gZY-YA",
    "outputId": "16830bce-6cbe-4ce6-b405-a6eec378cb96"
   },
   "outputs": [],
   "source": [
    "main()"
   ]
  },
  {
   "cell_type": "markdown",
   "metadata": {},
   "source": [
    "#### train the model on SVHN and test it on MNIST"
   ]
  },
  {
   "cell_type": "code",
   "execution_count": 47,
   "metadata": {
    "id": "5kBV0mQ6dee3"
   },
   "outputs": [],
   "source": [
    "def main():\n",
    "    exp_name='q3_part3_svhn'\n",
    "    torch.manual_seed(1)\n",
    "    device = 'cuda' if torch.cuda.is_available() else 'cpu'\n",
    "    print(torch.cuda.get_device_properties(0))\n",
    "    # Data\n",
    "    print('==> Preparing data..')\n",
    "    trainset = Mnist_SVHN(train=True,data_set='SVHN')\n",
    "    trainloader = DataLoader(trainset, batch_size=128, shuffle=True, num_workers=2)\n",
    "    testset = Mnist_SVHN(train=False,data_set='MNIST')\n",
    "    testloader = DataLoader(testset, batch_size=128, shuffle=False, num_workers=2)\n",
    "    print('==> Building model..')\n",
    "    net = LeNet()\n",
    "    net = net.to(device)\n",
    "    if device == 'cuda':\n",
    "        cudnn.benchmark = True\n",
    "    start_epoch = 1\n",
    "    best_acc=0\n",
    "    lr=0.1\n",
    "    criterion = nn.CrossEntropyLoss()\n",
    "    optimizer = optim.SGD(net.parameters(), lr=lr, weight_decay=5e-4)\n",
    "    trainloss, testloss, trainacc, testacc = [], [], [], []\n",
    "    ind=0\n",
    "    for epoch in range(start_epoch, start_epoch+20):\n",
    "        ind=ind+1\n",
    "        if ind==10:\n",
    "            lr=0.1/10.\n",
    "            optimizer = optim.SGD(net.parameters(), lr=lr, weight_decay=5e-4)\n",
    "        print('\\nepoch',epoch)\n",
    "        l,a=train(epoch, net, trainloader, device, optimizer, criterion)\n",
    "        trainloss.append(l)\n",
    "        trainacc.append(a)\n",
    "        l,a,best_acc=test(epoch, best_acc, net, testloader, device, criterion, exp_name)\n",
    "        testloss.append(l)\n",
    "        testacc.append(a)\n",
    "        print(trainacc[-1],testacc[-1])\n",
    "        print(trainloss[-1],testloss[-1])\n",
    "    Save_Stats(trainloss, trainacc, testloss, testacc, exp_name)\n",
    "\n",
    "def train(epoch, net, trainloader, device, optimizer, criterion):\n",
    "    net.train()\n",
    "    train_loss = 0\n",
    "    correct = 0\n",
    "    total = 0\n",
    "    for batch_idx, (inputs, targets) in enumerate(trainloader):\n",
    "        inputs, targets = inputs.to(device), targets.to(device)\n",
    "        optimizer.zero_grad()\n",
    "        outputs = net(inputs)\n",
    "        loss = criterion(outputs, targets)\n",
    "        loss.backward()\n",
    "        optimizer.step()\n",
    "        train_loss += loss.item()\n",
    "        _, predicted = outputs.max(1)\n",
    "        total += targets.size(0)\n",
    "        correct += predicted.eq(targets).sum().item()\n",
    "    return train_loss/(batch_idx+1), 100.*correct/total \n",
    "def test(epoch, best_acc, net, testloader, device, criterion,exp_name):\n",
    "    net.eval()\n",
    "    test_loss = 0\n",
    "    correct = 0\n",
    "    total = 0\n",
    "    with torch.no_grad():\n",
    "        for batch_idx, (inputs, targets) in enumerate(testloader):\n",
    "            inputs, targets = inputs.to(device), targets.to(device)\n",
    "            outputs = net(inputs)\n",
    "            loss = criterion(outputs, targets)\n",
    "            test_loss += loss.item()\n",
    "            _, predicted = outputs.max(1)\n",
    "            total += targets.size(0)\n",
    "            correct += predicted.eq(targets).sum().item()\n",
    "    acc = 100.*correct/total\n",
    "    if acc > best_acc:\n",
    "        best_acc = acc\n",
    "    return test_loss/(batch_idx+1), acc, best_acc"
   ]
  },
  {
   "cell_type": "code",
   "execution_count": 9,
   "metadata": {
    "colab": {
     "base_uri": "https://localhost:8080/"
    },
    "id": "JZpBov9sdeZd",
    "outputId": "c1060e6b-0caf-4db8-f437-6dd997657046"
   },
   "outputs": [],
   "source": [
    "main()"
   ]
  },
  {
   "cell_type": "code",
   "execution_count": 14,
   "metadata": {
    "id": "VY048pb9Y-Sv"
   },
   "outputs": [
    {
     "data": {
      "image/png": "[encoded data removed]",
      "text/plain": [
       "<Figure size 864x576 with 1 Axes>"
      ]
     },
     "metadata": {
      "needs_background": "light"
     },
     "output_type": "display_data"
    }
   ],
   "source": [
    "mnist=np.load('q3_part3_mnist_plts.npy')\n",
    "svhn=np.load('q3_part3_svhn_plts.npy')\n",
    "plt.figure(figsize=(12.,8.))\n",
    "plt.xlabel('Epochs')\n",
    "plt.ylabel('Accuracy')\n",
    "epochs=np.arange(1,mnist.shape[1]+1,1)\n",
    "plt.plot(epochs,mnist[2],label='train on MNIST',linestyle='--')\n",
    "plt.plot(epochs,mnist[3],label='test on SVHN',linewidth=0.9)\n",
    "ep=np.argmax(mnist[3,:])\n",
    "plt.plot(ep+1,mnist[3,ep],'r*',label='bestacc=%.2f'%mnist[3,ep])\n",
    "plt.plot(epochs,svhn[2],label='train on SVHN',linestyle='--')\n",
    "plt.plot(epochs,svhn[3],label='test on MNIST',linewidth=0.9)\n",
    "ep=np.argmax(svhn[3,:])\n",
    "plt.plot(ep+1,svhn[3,ep],'r*',label='bestacc=%.2f'%svhn[3,ep])\n",
    "plt.legend()\n",
    "plt.savefig('q3_part3_plts.png')\n",
    "plt.show()"
   ]
  },
  {
   "cell_type": "markdown",
   "metadata": {
    "id": "Q7bA4W1JY_mN"
   },
   "source": [
    "### Q3(4)"
   ]
  },
  {
   "cell_type": "code",
   "execution_count": 1,
   "metadata": {
    "id": "Eoht7O05SPDs"
   },
   "outputs": [],
   "source": [
    "import torch\n",
    "import torch.nn as nn\n",
    "import torch.nn.functional as F\n",
    "from torchsummary import summary\n",
    "import torch.optim as optim\n",
    "import torch.backends.cudnn as cudnn\n",
    "import torchvision.transforms as transforms\n",
    "from torch.utils.data import Dataset, DataLoader\n",
    "import PIL.Image as Image\n",
    "import numpy as np\n",
    "import matplotlib.pyplot as plt\n",
    "import pandas as pd"
   ]
  },
  {
   "cell_type": "code",
   "execution_count": null,
   "metadata": {
    "id": "j_XR76XvSO-e"
   },
   "outputs": [],
   "source": [
    "x=np.load('./MNIST/train_x.npy')\n",
    "y=np.load('./MNIST/train_y.npy')\n",
    "print(np.bincount(y))\n",
    "q3_part4_train_x=x[y==0]\n",
    "q3_part4_train_y=y[y==0]\n",
    "for j in range(1,5,1):\n",
    "    q3_part4_train_x=np.concatenate((q3_part4_train_x,x[y==j]))\n",
    "    q3_part4_train_y=np.concatenate((q3_part4_train_y,y[y==j]))\n",
    "np.save('q3_part4_train_x.npy',q3_part4_train_x)\n",
    "np.save('q3_part4_train_y.npy',q3_part4_train_y)"
   ]
  },
  {
   "cell_type": "code",
   "execution_count": 4,
   "metadata": {
    "id": "S_hnV6icOT6s"
   },
   "outputs": [],
   "source": [
    "class LeNet(nn.Module):\n",
    "    def __init__(self):\n",
    "        super(LeNet, self).__init__()\n",
    "        self.conv1 = nn.Conv2d(1, 6, 3, padding=1)\n",
    "        self.conv2 = nn.Conv2d(6, 16, 3, padding=1)\n",
    "        self.fc1   = nn.Linear(16*7*7, 120)\n",
    "        self.fc2   = nn.Linear(120, 10)\n",
    "    def forward(self, x):\n",
    "        out = F.relu(self.conv1(x)) #6,28,28\n",
    "        out = F.max_pool2d(out, 2) #6,14,14\n",
    "        out = F.relu(self.conv2(out)) #16,14,14\n",
    "        out = F.max_pool2d(out, 2) #16,7,7\n",
    "        out = out.view(out.size(0), -1) \n",
    "        out = F.relu(self.fc1(out))\n",
    "        out = self.fc2(out)\n",
    "        return out\n",
    "\n",
    "class Mnist(Dataset):\n",
    "    def __init__(self,train=True):\n",
    "        self.train = train\n",
    "        type_ = 'train' if train else 'test'\n",
    "        Images_path='drive/My Drive/q3/q3_part4_'+type_+'_x.npy'\n",
    "        Labels_path='drive/My Drive/q3/q3_part4_'+type_+'_y.npy'\n",
    "        self.imgs=np.load(Images_path)\n",
    "        self.lbls=np.load(Labels_path)\n",
    "        print(\"Data Successfully Loaded into CPU\")\n",
    "    def __getitem__(self, index):\n",
    "        img, target = self.imgs[index], self.lbls[index]\n",
    "        img = Image.fromarray(img.astype(np.uint8))\n",
    "        if self.train == True: # Apply train transform\n",
    "            t1 = transforms.Compose(\n",
    "                    [transforms.RandomCrop(28, padding=4), \n",
    "                    transforms.RandomHorizontalFlip()]) #can do since dataset has 0,1,2 digits only!\n",
    "            img = t1(img)\n",
    "        t2 = transforms.Compose(\n",
    "            [transforms.ToTensor()])\n",
    "        img = t2(img)        \n",
    "        return img, target\n",
    "    def __len__(self):\n",
    "        return self.imgs.shape[0]"
   ]
  },
  {
   "cell_type": "code",
   "execution_count": 5,
   "metadata": {
    "id": "TEIFuhuGObNx"
   },
   "outputs": [],
   "source": [
    "def classification_performance_metrics(y_pred, y_true, exp_name):\n",
    "    y_pred = y_pred.astype('uint8')\n",
    "    y_true = y_true.astype('uint8')\n",
    "    confusion_matrix = np.zeros((10,10)) #left side - actual, top side - predicted\n",
    "    for true_label in range(10):\n",
    "        true_indices = y_true==true_label\n",
    "        for pred_label in range(10):\n",
    "            check_pred_labels = y_pred[true_indices]\n",
    "            confusion_matrix[true_label][pred_label]= (check_pred_labels == pred_label).sum()\n",
    "    confusion_matrix/=(confusion_matrix.sum(axis=1,keepdims=True))    #normalise it - dividing by column sum\n",
    "    n=y_true.shape\n",
    "    tp_indices = y_pred==y_true\n",
    "    tp = y_true[tp_indices]\n",
    "    true_y_per_class = np.bincount(y_true)\n",
    "    labels = true_y_per_class.shape[0]\n",
    "    tp_per_class = np.zeros((labels,))\n",
    "    tp_per_class[:np.bincount(tp).shape[0]] = np.bincount(tp)\n",
    "    predicted_y_per_class = np.zeros((labels,))\n",
    "    predicted_y_per_class[:np.bincount(y_pred).shape[0]] = np.bincount(y_pred)\n",
    "    precisions, recalls, F1s = [], [], []\n",
    "    #precision, recall, F1 for each class\n",
    "    for i in range(tp_per_class.shape[0]):\n",
    "        TP = tp_per_class[i]\n",
    "        TN = tp_per_class.sum() - TP\n",
    "        FP = predicted_y_per_class[i] - TP\n",
    "        FN = true_y_per_class[i] - TP\n",
    "        precision = 100*TP/(TP+FP) if TP+FP!=0 else 0\n",
    "        recall = 100*TP/(TP+FN) if TP+FN!=0 else 0\n",
    "        F1 = 2*TP/(2*TP+FP+FN) if TP+FP+FN!=0 else 0\n",
    "        FPR = FP/(FP+TN) if FP+TN!=0 else 0\n",
    "        precisions.append(precision)\n",
    "        recalls.append(recall)\n",
    "        F1s.append(F1)\n",
    "    if exp_name!=None:\n",
    "        #save csv files\n",
    "        categories=[\"0\",\"1\",\"2\",\"3\",\"4\",\"5\",\"6\",\"7\",\"8\",\"9\"]\n",
    "        dikt = {}\n",
    "        dikt['Precision']=np.round(precisions,2)\n",
    "        dikt['Recall']=np.round(recalls,2)\n",
    "        dikt['F1']=np.round(F1s,2)\n",
    "        df = pd.DataFrame(data=dikt,index=categories)\n",
    "        df.to_csv('%s_perClass.csv'%exp_name)\n",
    "        df = pd.DataFrame(data=np.round(confusion_matrix,3),index=categories,columns=categories)\n",
    "        df.to_csv('%s_ConfMat.csv'%exp_name)\n",
    "    precisions=np.array(precisions)\n",
    "    recalls=np.array(recalls)\n",
    "    F1s=np.array(F1s)\n",
    "    macro_F1=F1s.mean()\n",
    "    return precisions, recalls, F1s, macro_F1, confusion_matrix\n",
    "def accuracy(y_pred, y_true):\n",
    "    return (y_pred==y_true).sum()/y_true.shape[0]\n",
    "def Save_Stats(trainloss, trainacc, testloss, testacc, exp_name):\n",
    "    data=[]\n",
    "    data.append(trainloss)\n",
    "    data.append(testloss)\n",
    "    data.append(trainacc)\n",
    "    data.append(testacc)\n",
    "    data=np.array(data)\n",
    "    data.reshape((4,-1))\n",
    "    np.save('drive/My Drive/q3/%s_plts.npy'%exp_name,data)\n",
    "    return np.max(data[3,:])"
   ]
  },
  {
   "cell_type": "code",
   "execution_count": 8,
   "metadata": {
    "id": "7ObSZPXvObLm"
   },
   "outputs": [],
   "source": [
    "def main():\n",
    "    exp_name='q3_part4'\n",
    "    torch.manual_seed(1)\n",
    "    device = 'cuda' if torch.cuda.is_available() else 'cpu'\n",
    "    print(torch.cuda.get_device_properties(0))\n",
    "    # Data\n",
    "    print('==> Preparing data..')\n",
    "    trainset = Mnist(train=True)\n",
    "    trainloader = DataLoader(trainset, batch_size=128, shuffle=True, num_workers=2)\n",
    "    testset = Mnist(train=False)\n",
    "    testloader = DataLoader(testset, batch_size=128, shuffle=False, num_workers=2)\n",
    "    print('==> Building model..')\n",
    "    net = LeNet()\n",
    "    net = net.to(device)\n",
    "    if device == 'cuda':\n",
    "        cudnn.benchmark = True\n",
    "    start_epoch = 1\n",
    "    best_acc=0\n",
    "    lr=0.1\n",
    "    criterion = nn.CrossEntropyLoss()\n",
    "    optimizer = optim.SGD(net.parameters(), lr=lr, weight_decay=5e-4)\n",
    "    trainloss, testloss, trainacc, testacc = [], [], [], []\n",
    "    for epoch in range(start_epoch, start_epoch+20):\n",
    "        l,a=train(epoch, net, trainloader, device, optimizer, criterion)\n",
    "        trainloss.append(l)\n",
    "        trainacc.append(a)\n",
    "        l,a,best_acc=test(epoch, best_acc, net, testloader, device, criterion, exp_name)\n",
    "        testloss.append(l)\n",
    "        testacc.append(a)\n",
    "    Save_Stats(trainloss, trainacc, testloss, testacc, exp_name)\n",
    "    with torch.no_grad():\n",
    "        Images_path='drive/My Drive/q3/q3_part4_test_x.npy'\n",
    "        Labels_path='drive/My Drive/q3/q3_part4_test_y.npy'\n",
    "        imgs=np.load(Images_path)\n",
    "        lbls=np.load(Labels_path)\n",
    "        imgs=np.expand_dims(imgs,axis=1)\n",
    "        imgs=torch.from_numpy(imgs)/255.\n",
    "        lbls=torch.from_numpy(lbls)\n",
    "        imgs=imgs.to(device)\n",
    "        lbls=lbls.to(device)\n",
    "        outputs = net(imgs)\n",
    "        _, predicted = outputs.max(1)\n",
    "        classification_performance_metrics(predicted.cpu().numpy(),lbls.cpu().numpy(),exp_name)\n",
    "def train(epoch, net, trainloader, device, optimizer, criterion):\n",
    "    net.train()\n",
    "    train_loss = 0\n",
    "    correct = 0\n",
    "    total = 0\n",
    "    for batch_idx, (inputs, targets) in enumerate(trainloader):\n",
    "        inputs, targets = inputs.to(device), targets.to(device)\n",
    "        optimizer.zero_grad()\n",
    "        outputs = net(inputs)\n",
    "        loss = criterion(outputs, targets)\n",
    "        loss.backward()\n",
    "        optimizer.step()\n",
    "        train_loss += loss.item()\n",
    "        _, predicted = outputs.max(1)\n",
    "        total += targets.size(0)\n",
    "        correct += predicted.eq(targets).sum().item()\n",
    "    return train_loss/(batch_idx+1), 100.*correct/total \n",
    "def test(epoch, best_acc, net, testloader, device, criterion,exp_name):\n",
    "    net.eval()\n",
    "    test_loss = 0\n",
    "    correct = 0\n",
    "    total = 0\n",
    "    with torch.no_grad():\n",
    "        for batch_idx, (inputs, targets) in enumerate(testloader):\n",
    "            inputs, targets = inputs.to(device), targets.to(device)\n",
    "            outputs = net(inputs)\n",
    "            loss = criterion(outputs, targets)\n",
    "            test_loss += loss.item()\n",
    "            _, predicted = outputs.max(1)\n",
    "            total += targets.size(0)\n",
    "            correct += predicted.eq(targets).sum().item()\n",
    "    acc = 100.*correct/total\n",
    "    if acc > best_acc:\n",
    "        best_acc = acc\n",
    "    return test_loss/(batch_idx+1), acc, best_acc"
   ]
  },
  {
   "cell_type": "code",
   "execution_count": 10,
   "metadata": {
    "colab": {
     "base_uri": "https://localhost:8080/"
    },
    "id": "SCF84KweObHL",
    "outputId": "96add1af-39e1-4ac9-d397-2f7d525243f1"
   },
   "outputs": [
    {
     "name": "stdout",
     "output_type": "stream",
     "text": [
      "_CudaDeviceProperties(name='Tesla T4', major=7, minor=5, total_memory=15079MB, multi_processor_count=40)\n",
      "==> Preparing data..\n",
      "Data Successfully Loaded into CPU\n",
      "Data Successfully Loaded into CPU\n",
      "==> Building model..\n"
     ]
    }
   ],
   "source": [
    "main()"
   ]
  },
  {
   "cell_type": "code",
   "execution_count": 16,
   "metadata": {
    "id": "5DCdSsltObCT"
   },
   "outputs": [
    {
     "data": {
      "image/png": "[encoded data removed]",
      "text/plain": [
       "<Figure size 864x288 with 2 Axes>"
      ]
     },
     "metadata": {
      "needs_background": "light"
     },
     "output_type": "display_data"
    }
   ],
   "source": [
    "mnist=np.load('q3_part4_plts.npy')\n",
    "plt.figure(figsize=(12.,4.))\n",
    "epochs=np.arange(1,mnist.shape[1]+1,1)\n",
    "plt.subplot(1,2,1)\n",
    "plt.xlabel('Epochs')\n",
    "plt.ylabel('Accuracy')\n",
    "plt.plot(epochs,mnist[2],label='train',linestyle='--')\n",
    "plt.plot(epochs,mnist[3],label='test',linewidth=0.9)\n",
    "ep=np.argmax(mnist[3,:])\n",
    "plt.plot(ep+1,mnist[3,ep],'r*',label='bestacc=%.2f'%mnist[3,ep])\n",
    "plt.legend()\n",
    "plt.subplot(1,2,2)\n",
    "plt.xlabel('Epochs')\n",
    "plt.ylabel('Cross Entropy Loss')\n",
    "plt.plot(epochs,mnist[0],label='train',linestyle='--')\n",
    "plt.plot(epochs,mnist[1],label='test',linewidth=0.9)\n",
    "plt.legend()\n",
    "plt.savefig('q3_part4_plts.png')\n",
    "plt.show()"
   ]
  }
 ],
 "metadata": {
  "accelerator": "GPU",
  "colab": {
   "collapsed_sections": [],
   "name": "Q3_part_3_4.ipynb",
   "provenance": []
  },
  "kernelspec": {
   "display_name": "Python 3",
   "language": "python",
   "name": "python3"
  },
  "language_info": {
   "codemirror_mode": {
    "name": "ipython",
    "version": 3
   },
   "file_extension": ".py",
   "mimetype": "text/x-python",
   "name": "python",
   "nbconvert_exporter": "python",
   "pygments_lexer": "ipython3",
   "version": "3.7.5"
  }
 },
 "nbformat": 4,
 "nbformat_minor": 1
}
