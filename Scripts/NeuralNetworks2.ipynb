{
  "nbformat": 4,
  "nbformat_minor": 0,
  "metadata": {
    "colab": {
      "name": "q2 model architectures.ipynb",
      "provenance": [],
      "collapsed_sections": []
    },
    "kernelspec": {
      "name": "python3",
      "display_name": "Python 3"
    }
  },
  "cells": [
    {
      "cell_type": "code",
      "metadata": {
        "id": "LFYNXBGgL80w"
      },
      "source": [
        "import torch\n",
        "import torch.nn as nn\n",
        "import torch.nn.functional as F\n",
        "from torchsummary import summary\n",
        "class LeNet(nn.Module):\n",
        "    def __init__(self):\n",
        "        super(LeNet, self).__init__()\n",
        "        self.conv1 = nn.Conv2d(3, 6, 5)\n",
        "        self.conv2 = nn.Conv2d(6, 16, 5)\n",
        "        self.fc1   = nn.Linear(16*13*13, 120)\n",
        "        self.fc2   = nn.Linear(120, 84)\n",
        "        self.fc3   = nn.Linear(84, 200)\n",
        "    def forward(self, x):\n",
        "        out = F.relu(self.conv1(x)) #6,60,60\n",
        "        out = F.max_pool2d(out, 2) #6,30,30\n",
        "        out = F.relu(self.conv2(out)) #16,26,26\n",
        "        out = F.max_pool2d(out, 2) #16,13,13\n",
        "        out = out.view(out.size(0), -1) \n",
        "        out = F.relu(self.fc1(out))\n",
        "        out = F.relu(self.fc2(out))\n",
        "        out = self.fc3(out)\n",
        "        return out\n",
        "\n",
        "class AlexNet(nn.Module):\n",
        "    def __init__(self):\n",
        "        super(AlexNet, self).__init__()\n",
        "        self.features = nn.Sequential(\n",
        "            nn.Conv2d(3, 64, kernel_size=11, stride=4, padding=2), #64,15,15\n",
        "            nn.ReLU(inplace=True),\n",
        "            nn.MaxPool2d(kernel_size=3, stride=2), #64,7,7\n",
        "            nn.Conv2d(64, 192, kernel_size=5, padding=2), #192,7,7\n",
        "            nn.ReLU(inplace=True),\n",
        "            nn.MaxPool2d(kernel_size=3, stride=2), #192,3,3\n",
        "            nn.Conv2d(192, 384, kernel_size=3, padding=1), #384,3,3\n",
        "            nn.ReLU(inplace=True),\n",
        "            nn.Conv2d(384, 256, kernel_size=3, padding=1), #256,3,3\n",
        "            nn.ReLU(inplace=True),\n",
        "            nn.Conv2d(256, 256, kernel_size=3, padding=1), #256,3,3\n",
        "            nn.ReLU(inplace=True),\n",
        "            nn.MaxPool2d(kernel_size=3, stride=2), #256,1,1\n",
        "        )\n",
        "        # self.avgpool = nn.AdaptiveAvgPool2d((6, 6))\n",
        "        self.classifier = nn.Sequential(\n",
        "            nn.Dropout(),\n",
        "            nn.Linear(256, 4096),\n",
        "            nn.ReLU(inplace=True),\n",
        "            nn.Dropout(),\n",
        "            nn.Linear(4096, 4096),\n",
        "            nn.ReLU(inplace=True),\n",
        "            nn.Linear(4096, 200),\n",
        "        )\n",
        "\n",
        "    def forward(self, x: torch.Tensor) -> torch.Tensor:\n",
        "        x = self.features(x)\n",
        "        # x = self.avgpool(x)\n",
        "        x = torch.flatten(x, 1)\n",
        "        x = self.classifier(x)\n",
        "        return x\n",
        "\n",
        "class VGG(nn.Module):\n",
        "    def __init__(self):\n",
        "        super(VGG, self).__init__()\n",
        "        self.features = self._make_layers([64, 64, 'M', 128, 128, 'M', 256, 256, 256, 'M', 512, 512, 512, 'M', 512, 512, 512, 'M'])\n",
        "        self.classifier = nn.Linear(512, 200)\n",
        "    def forward(self, x):\n",
        "        out = self.features(x)\n",
        "        out = out.view(out.size(0), -1)\n",
        "        out = self.classifier(out)\n",
        "        return out\n",
        "    def _make_layers(self, cfg):\n",
        "        layers = []\n",
        "        in_channels = 3\n",
        "        for x in cfg:\n",
        "            if x == 'M':\n",
        "                layers += [nn.MaxPool2d(kernel_size=2, stride=2)]\n",
        "            else:\n",
        "                layers += [nn.Conv2d(in_channels, x, kernel_size=3, padding=1),\n",
        "                           nn.BatchNorm2d(x),\n",
        "                           nn.ReLU(inplace=True)]\n",
        "                in_channels = x\n",
        "        layers += [nn.AvgPool2d(kernel_size=2, stride=1)] #changed kernel size from 1 to 2\n",
        "        return nn.Sequential(*layers)"
      ],
      "execution_count": 3,
      "outputs": []
    },
    {
      "cell_type": "code",
      "metadata": {
        "colab": {
          "base_uri": "https://localhost:8080/"
        },
        "id": "mPQ0_KuuFPhq",
        "outputId": "ae13fc69-398b-460a-cc27-5147a04486fe"
      },
      "source": [
        "net=LeNet()\n",
        "net=net.to(torch.device('cpu'))\n",
        "summary(net, input_size=(3,64,64))"
      ],
      "execution_count": 4,
      "outputs": [
        {
          "output_type": "stream",
          "text": [
            "----------------------------------------------------------------\n",
            "        Layer (type)               Output Shape         Param #\n",
            "================================================================\n",
            "            Conv2d-1            [-1, 6, 60, 60]             456\n",
            "            Conv2d-2           [-1, 16, 26, 26]           2,416\n",
            "            Linear-3                  [-1, 120]         324,600\n",
            "            Linear-4                   [-1, 84]          10,164\n",
            "            Linear-5                  [-1, 200]          17,000\n",
            "================================================================\n",
            "Total params: 354,636\n",
            "Trainable params: 354,636\n",
            "Non-trainable params: 0\n",
            "----------------------------------------------------------------\n",
            "Input size (MB): 0.05\n",
            "Forward/backward pass size (MB): 0.25\n",
            "Params size (MB): 1.35\n",
            "Estimated Total Size (MB): 1.65\n",
            "----------------------------------------------------------------\n"
          ],
          "name": "stdout"
        }
      ]
    },
    {
      "cell_type": "code",
      "metadata": {
        "colab": {
          "base_uri": "https://localhost:8080/"
        },
        "id": "oH8kSSODFPfI",
        "outputId": "78cc3cd3-adc0-4e32-bd1d-06a10d045e90"
      },
      "source": [
        "net=AlexNet()\n",
        "net=net.to(torch.device('cpu'))\n",
        "summary(net, input_size=(3,64,64))"
      ],
      "execution_count": 5,
      "outputs": [
        {
          "output_type": "stream",
          "text": [
            "----------------------------------------------------------------\n",
            "        Layer (type)               Output Shape         Param #\n",
            "================================================================\n",
            "            Conv2d-1           [-1, 64, 15, 15]          23,296\n",
            "              ReLU-2           [-1, 64, 15, 15]               0\n",
            "         MaxPool2d-3             [-1, 64, 7, 7]               0\n",
            "            Conv2d-4            [-1, 192, 7, 7]         307,392\n",
            "              ReLU-5            [-1, 192, 7, 7]               0\n",
            "         MaxPool2d-6            [-1, 192, 3, 3]               0\n",
            "            Conv2d-7            [-1, 384, 3, 3]         663,936\n",
            "              ReLU-8            [-1, 384, 3, 3]               0\n",
            "            Conv2d-9            [-1, 256, 3, 3]         884,992\n",
            "             ReLU-10            [-1, 256, 3, 3]               0\n",
            "           Conv2d-11            [-1, 256, 3, 3]         590,080\n",
            "             ReLU-12            [-1, 256, 3, 3]               0\n",
            "        MaxPool2d-13            [-1, 256, 1, 1]               0\n",
            "          Dropout-14                  [-1, 256]               0\n",
            "           Linear-15                 [-1, 4096]       1,052,672\n",
            "             ReLU-16                 [-1, 4096]               0\n",
            "          Dropout-17                 [-1, 4096]               0\n",
            "           Linear-18                 [-1, 4096]      16,781,312\n",
            "             ReLU-19                 [-1, 4096]               0\n",
            "           Linear-20                  [-1, 200]         819,400\n",
            "================================================================\n",
            "Total params: 21,123,080\n",
            "Trainable params: 21,123,080\n",
            "Non-trainable params: 0\n",
            "----------------------------------------------------------------\n",
            "Input size (MB): 0.05\n",
            "Forward/backward pass size (MB): 0.69\n",
            "Params size (MB): 80.58\n",
            "Estimated Total Size (MB): 81.31\n",
            "----------------------------------------------------------------\n"
          ],
          "name": "stdout"
        }
      ]
    },
    {
      "cell_type": "code",
      "metadata": {
        "id": "IAIdKvjOOZuX",
        "colab": {
          "base_uri": "https://localhost:8080/"
        },
        "outputId": "615a7191-29ca-4b7d-f309-c01b893dea3e"
      },
      "source": [
        "net=VGG()\n",
        "net=net.to(torch.device('cpu'))\n",
        "summary(net, input_size=(3,64,64))"
      ],
      "execution_count": 6,
      "outputs": [
        {
          "output_type": "stream",
          "text": [
            "----------------------------------------------------------------\n",
            "        Layer (type)               Output Shape         Param #\n",
            "================================================================\n",
            "            Conv2d-1           [-1, 64, 64, 64]           1,792\n",
            "       BatchNorm2d-2           [-1, 64, 64, 64]             128\n",
            "              ReLU-3           [-1, 64, 64, 64]               0\n",
            "            Conv2d-4           [-1, 64, 64, 64]          36,928\n",
            "       BatchNorm2d-5           [-1, 64, 64, 64]             128\n",
            "              ReLU-6           [-1, 64, 64, 64]               0\n",
            "         MaxPool2d-7           [-1, 64, 32, 32]               0\n",
            "            Conv2d-8          [-1, 128, 32, 32]          73,856\n",
            "       BatchNorm2d-9          [-1, 128, 32, 32]             256\n",
            "             ReLU-10          [-1, 128, 32, 32]               0\n",
            "           Conv2d-11          [-1, 128, 32, 32]         147,584\n",
            "      BatchNorm2d-12          [-1, 128, 32, 32]             256\n",
            "             ReLU-13          [-1, 128, 32, 32]               0\n",
            "        MaxPool2d-14          [-1, 128, 16, 16]               0\n",
            "           Conv2d-15          [-1, 256, 16, 16]         295,168\n",
            "      BatchNorm2d-16          [-1, 256, 16, 16]             512\n",
            "             ReLU-17          [-1, 256, 16, 16]               0\n",
            "           Conv2d-18          [-1, 256, 16, 16]         590,080\n",
            "      BatchNorm2d-19          [-1, 256, 16, 16]             512\n",
            "             ReLU-20          [-1, 256, 16, 16]               0\n",
            "           Conv2d-21          [-1, 256, 16, 16]         590,080\n",
            "      BatchNorm2d-22          [-1, 256, 16, 16]             512\n",
            "             ReLU-23          [-1, 256, 16, 16]               0\n",
            "        MaxPool2d-24            [-1, 256, 8, 8]               0\n",
            "           Conv2d-25            [-1, 512, 8, 8]       1,180,160\n",
            "      BatchNorm2d-26            [-1, 512, 8, 8]           1,024\n",
            "             ReLU-27            [-1, 512, 8, 8]               0\n",
            "           Conv2d-28            [-1, 512, 8, 8]       2,359,808\n",
            "      BatchNorm2d-29            [-1, 512, 8, 8]           1,024\n",
            "             ReLU-30            [-1, 512, 8, 8]               0\n",
            "           Conv2d-31            [-1, 512, 8, 8]       2,359,808\n",
            "      BatchNorm2d-32            [-1, 512, 8, 8]           1,024\n",
            "             ReLU-33            [-1, 512, 8, 8]               0\n",
            "        MaxPool2d-34            [-1, 512, 4, 4]               0\n",
            "           Conv2d-35            [-1, 512, 4, 4]       2,359,808\n",
            "      BatchNorm2d-36            [-1, 512, 4, 4]           1,024\n",
            "             ReLU-37            [-1, 512, 4, 4]               0\n",
            "           Conv2d-38            [-1, 512, 4, 4]       2,359,808\n",
            "      BatchNorm2d-39            [-1, 512, 4, 4]           1,024\n",
            "             ReLU-40            [-1, 512, 4, 4]               0\n",
            "           Conv2d-41            [-1, 512, 4, 4]       2,359,808\n",
            "      BatchNorm2d-42            [-1, 512, 4, 4]           1,024\n",
            "             ReLU-43            [-1, 512, 4, 4]               0\n",
            "        MaxPool2d-44            [-1, 512, 2, 2]               0\n",
            "        AvgPool2d-45            [-1, 512, 1, 1]               0\n",
            "           Linear-46                  [-1, 200]         102,600\n",
            "================================================================\n",
            "Total params: 14,825,736\n",
            "Trainable params: 14,825,736\n",
            "Non-trainable params: 0\n",
            "----------------------------------------------------------------\n",
            "Input size (MB): 0.05\n",
            "Forward/backward pass size (MB): 26.27\n",
            "Params size (MB): 56.56\n",
            "Estimated Total Size (MB): 82.87\n",
            "----------------------------------------------------------------\n"
          ],
          "name": "stdout"
        }
      ]
    }
  ]
}